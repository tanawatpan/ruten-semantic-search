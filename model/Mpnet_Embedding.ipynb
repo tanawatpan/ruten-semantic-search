{
 "cells": [
  {
   "cell_type": "code",
   "execution_count": 2,
   "id": "61e01989-799a-4a4e-b0dc-a0e61c52d6b6",
   "metadata": {},
   "outputs": [
    {
     "name": "stdout",
     "output_type": "stream",
     "text": [
      "Successfully installed click-8.1.3 cmake-3.26.3 joblib-1.2.0 lit-16.0.5.post0 mpmath-1.3.0 networkx-3.1 nltk-3.8.1 nvidia-cublas-cu11-11.10.3.66 nvidia-cuda-cupti-cu11-11.7.101 nvidia-cuda-nvrtc-cu11-11.7.99 nvidia-cuda-runtime-cu11-11.7.99 nvidia-cudnn-cu11-8.5.0.96 nvidia-cufft-cu11-10.9.0.58 nvidia-curand-cu11-10.2.10.91 nvidia-cusolver-cu11-11.4.0.1 nvidia-cusparse-cu11-11.7.4.91 nvidia-nccl-cu11-2.14.3 nvidia-nvtx-cu11-11.7.91 pyarrow-12.0.0 scikit-learn-1.2.2 sentence-transformers-2.2.2 sentencepiece-0.1.99 sympy-1.12 threadpoolctl-3.1.0 torch-2.0.1 torchvision-0.15.2 triton-2.0.0\n",
      "Note: you may need to restart the kernel to use updated packages.\n"
     ]
    }
   ],
   "source": [
    "%pip install pyarrow torch sentence-transformers"
   ]
  },
  {
   "cell_type": "code",
   "execution_count": 3,
   "id": "dab2609e-5b60-47b4-bd9e-536c5dc9ab6b",
   "metadata": {},
   "outputs": [],
   "source": [
    "import warnings\n",
    "warnings.filterwarnings(\"ignore\")\n",
    "\n",
    "import findspark\n",
    "findspark.init()\n",
    "\n",
    "from sentence_transformers import SentenceTransformer, util\n",
    "from pyspark.sql import SparkSession\n",
    "from pyspark.sql.functions import *\n",
    "from pyspark.sql.types import *\n",
    "\n",
    "import pyarrow as pa\n",
    "import pyarrow.parquet as pq\n",
    "\n",
    "import pandas as pd\n",
    "import numpy as np"
   ]
  },
  {
   "cell_type": "code",
   "execution_count": 4,
   "id": "ed2367a9-174a-46ea-a50b-fd336db4a011",
   "metadata": {},
   "outputs": [
    {
     "name": "stderr",
     "output_type": "stream",
     "text": [
      "Setting default log level to \"WARN\".\n",
      "To adjust logging level use sc.setLogLevel(newLevel). For SparkR, use setLogLevel(newLevel).\n"
     ]
    }
   ],
   "source": [
    "parrallelism = 4\n",
    "spark = SparkSession.builder \\\n",
    "                    .appName('Mpnet Sentence Embedding') \\\n",
    "                    .config(\"spark.dynamicAllocation.enabled\", False) \\\n",
    "                    .config(\"spark.driver.memory\", \"4g\") \\\n",
    "                    .config(\"spark.cores.max\", parrallelism) \\\n",
    "                    .config(\"spark.executor.instances\", parrallelism) \\\n",
    "                    .config(\"spark.executor.cores\", 1) \\\n",
    "                    .config(\"spark.executor.memory\", \"8g\") \\\n",
    "                    .enableHiveSupport() \\\n",
    "                    .getOrCreate()\n",
    "\n",
    "sc = spark.sparkContext\n",
    "sc.setLogLevel(\"ERROR\")"
   ]
  },
  {
   "cell_type": "code",
   "execution_count": 5,
   "id": "130f89fd-3ed9-4546-96cb-50338cf318f3",
   "metadata": {},
   "outputs": [
    {
     "name": "stderr",
     "output_type": "stream",
     "text": [
      "Downloading (…)9e268/.gitattributes: 100%|██████████| 690/690 [00:00<00:00, 3.03MB/s]\n",
      "Downloading (…)_Pooling/config.json: 100%|██████████| 190/190 [00:00<00:00, 1.08MB/s]\n",
      "Downloading (…)f2cd19e268/README.md: 100%|██████████| 3.77k/3.77k [00:00<00:00, 19.3MB/s]\n",
      "Downloading (…)cd19e268/config.json: 100%|██████████| 723/723 [00:00<00:00, 3.76MB/s]\n",
      "Downloading (…)ce_transformers.json: 100%|██████████| 122/122 [00:00<00:00, 722kB/s]\n",
      "Downloading pytorch_model.bin: 100%|██████████| 1.11G/1.11G [00:12<00:00, 87.6MB/s]\n",
      "Downloading (…)nce_bert_config.json: 100%|██████████| 53.0/53.0 [00:00<00:00, 293kB/s]\n",
      "Downloading (…)tencepiece.bpe.model: 100%|██████████| 5.07M/5.07M [00:00<00:00, 66.6MB/s]\n",
      "Downloading (…)cial_tokens_map.json: 100%|██████████| 239/239 [00:00<00:00, 1.52MB/s]\n",
      "Downloading (…)9e268/tokenizer.json: 100%|██████████| 9.08M/9.08M [00:01<00:00, 7.38MB/s]\n",
      "Downloading (…)okenizer_config.json: 100%|██████████| 402/402 [00:00<00:00, 2.38MB/s]\n",
      "Downloading (…)d19e268/modules.json: 100%|██████████| 229/229 [00:00<00:00, 1.50MB/s]\n"
     ]
    }
   ],
   "source": [
    "model = SentenceTransformer('paraphrase-multilingual-mpnet-base-v2')"
   ]
  },
  {
   "cell_type": "code",
   "execution_count": 6,
   "id": "78a081ab-67c9-430f-850d-9c4fdb1521fb",
   "metadata": {},
   "outputs": [
    {
     "name": "stdout",
     "output_type": "stream",
     "text": [
      "root\n",
      " |-- item_id: long (nullable = true)\n",
      " |-- item_name: string (nullable = true)\n",
      "\n"
     ]
    }
   ],
   "source": [
    "goods = spark.table(\"ruten.goods\")\n",
    "orders = spark.table(\"ruten.orders\")\n",
    "goods_vs_keywords = spark.table(\"ruten.goods_vs_keywords\")\n",
    "\n",
    "data = goods.join(orders, goods.item_id == orders.item_id, how=\"left\") \\\n",
    "                .join(goods_vs_keywords, goods_vs_keywords.GNO == goods.item_id, how=\"left\") \\\n",
    "                .where( col(\"orders.item_id\").isNotNull() | col(\"goods_vs_keywords.gno\").isNotNull() ) \\\n",
    "                .select(goods.item_id, goods.item_name) \\\n",
    "                .withColumn(\"item_name\", lower(trim(regexp_replace(regexp_replace(col(\"item_name\"), '&#\\w+;', ''), '[^\\u4e00-\\u9fffa-zA-Z0-9]+', ' '))) ) \\\n",
    "                .distinct()\n",
    "\n",
    "data.printSchema()"
   ]
  },
  {
   "cell_type": "code",
   "execution_count": 7,
   "id": "2bca2523-b063-4ecc-80a7-e55d7e6aecec",
   "metadata": {},
   "outputs": [
    {
     "name": "stderr",
     "output_type": "stream",
     "text": [
      "                                                                                \r"
     ]
    },
    {
     "data": {
      "text/html": [
       "<div>\n",
       "<style scoped>\n",
       "    .dataframe tbody tr th:only-of-type {\n",
       "        vertical-align: middle;\n",
       "    }\n",
       "\n",
       "    .dataframe tbody tr th {\n",
       "        vertical-align: top;\n",
       "    }\n",
       "\n",
       "    .dataframe thead th {\n",
       "        text-align: right;\n",
       "    }\n",
       "</style>\n",
       "<table border=\"1\" class=\"dataframe\">\n",
       "  <thead>\n",
       "    <tr style=\"text-align: right;\">\n",
       "      <th></th>\n",
       "      <th>item_id</th>\n",
       "      <th>item_name</th>\n",
       "    </tr>\n",
       "  </thead>\n",
       "  <tbody>\n",
       "    <tr>\n",
       "      <th>0</th>\n",
       "      <td>10060814036060</td>\n",
       "      <td>二手音樂cd 98度單曲 征服未來</td>\n",
       "    </tr>\n",
       "    <tr>\n",
       "      <th>1</th>\n",
       "      <td>10060831298854</td>\n",
       "      <td>纖維彈簧透氣墊 沙發 汽車 電腦椅 輪椅 透氣椅墊 透氣坐墊 透氣座墊 小寵物墊 通風 散熱...</td>\n",
       "    </tr>\n",
       "    <tr>\n",
       "      <th>2</th>\n",
       "      <td>10060908825888</td>\n",
       "      <td>hikaru no go棋靈王便條紙</td>\n",
       "    </tr>\n",
       "    <tr>\n",
       "      <th>3</th>\n",
       "      <td>10060924029666</td>\n",
       "      <td>曹錦輝 tsao chin hui 2005 topps heritage 317</td>\n",
       "    </tr>\n",
       "    <tr>\n",
       "      <th>4</th>\n",
       "      <td>10061017636459</td>\n",
       "      <td>墨水王 評價9000 lxmark epson canon hp 高品質台灣填充墨水</td>\n",
       "    </tr>\n",
       "    <tr>\n",
       "      <th>...</th>\n",
       "      <td>...</td>\n",
       "      <td>...</td>\n",
       "    </tr>\n",
       "    <tr>\n",
       "      <th>1246576</th>\n",
       "      <td>22152635903312</td>\n",
       "      <td>jspb g5 標準版拉把</td>\n",
       "    </tr>\n",
       "    <tr>\n",
       "      <th>1246577</th>\n",
       "      <td>22152636113923</td>\n",
       "      <td>限fb買家陳先生下標購買rgeva貳號機</td>\n",
       "    </tr>\n",
       "    <tr>\n",
       "      <th>1246578</th>\n",
       "      <td>22152636835665</td>\n",
       "      <td>fun patch臂章圖鑑 限時預購</td>\n",
       "    </tr>\n",
       "    <tr>\n",
       "      <th>1246579</th>\n",
       "      <td>22152637425256</td>\n",
       "      <td>h 日版cd 安室奈美 break the rules song nation lovin it</td>\n",
       "    </tr>\n",
       "    <tr>\n",
       "      <th>1246580</th>\n",
       "      <td>22152638734520</td>\n",
       "      <td>專屬賣場 其它人請勿下標</td>\n",
       "    </tr>\n",
       "  </tbody>\n",
       "</table>\n",
       "<p>1246581 rows × 2 columns</p>\n",
       "</div>"
      ],
      "text/plain": [
       "                item_id                                          item_name\n",
       "0        10060814036060                                  二手音樂cd 98度單曲 征服未來\n",
       "1        10060831298854  纖維彈簧透氣墊 沙發 汽車 電腦椅 輪椅 透氣椅墊 透氣坐墊 透氣座墊 小寵物墊 通風 散熱...\n",
       "2        10060908825888                                 hikaru no go棋靈王便條紙\n",
       "3        10060924029666          曹錦輝 tsao chin hui 2005 topps heritage 317\n",
       "4        10061017636459         墨水王 評價9000 lxmark epson canon hp 高品質台灣填充墨水\n",
       "...                 ...                                                ...\n",
       "1246576  22152635903312                                      jspb g5 標準版拉把\n",
       "1246577  22152636113923                               限fb買家陳先生下標購買rgeva貳號機\n",
       "1246578  22152636835665                                 fun patch臂章圖鑑 限時預購\n",
       "1246579  22152637425256   h 日版cd 安室奈美 break the rules song nation lovin it\n",
       "1246580  22152638734520                                       專屬賣場 其它人請勿下標\n",
       "\n",
       "[1246581 rows x 2 columns]"
      ]
     },
     "execution_count": 7,
     "metadata": {},
     "output_type": "execute_result"
    }
   ],
   "source": [
    "item_names_df = data.toPandas()\n",
    "item_names_df"
   ]
  },
  {
   "cell_type": "code",
   "execution_count": 9,
   "id": "62bfe49f",
   "metadata": {},
   "outputs": [
    {
     "name": "stderr",
     "output_type": "stream",
     "text": [
      "Batches: 100%|██████████| 313/313 [00:20<00:00, 15.43it/s]\n"
     ]
    }
   ],
   "source": [
    "embeddings = model.encode(item_names_df.item_name.values, show_progress_bar=True)"
   ]
  },
  {
   "cell_type": "code",
   "execution_count": 10,
   "id": "dce544e7-6796-4bf6-8206-a41d76ad9abe",
   "metadata": {},
   "outputs": [
    {
     "data": {
      "text/html": [
       "<div>\n",
       "<style scoped>\n",
       "    .dataframe tbody tr th:only-of-type {\n",
       "        vertical-align: middle;\n",
       "    }\n",
       "\n",
       "    .dataframe tbody tr th {\n",
       "        vertical-align: top;\n",
       "    }\n",
       "\n",
       "    .dataframe thead th {\n",
       "        text-align: right;\n",
       "    }\n",
       "</style>\n",
       "<table border=\"1\" class=\"dataframe\">\n",
       "  <thead>\n",
       "    <tr style=\"text-align: right;\">\n",
       "      <th></th>\n",
       "      <th>item_id</th>\n",
       "      <th>item_name</th>\n",
       "      <th>embeddings</th>\n",
       "    </tr>\n",
       "  </thead>\n",
       "  <tbody>\n",
       "    <tr>\n",
       "      <th>0</th>\n",
       "      <td>10060814036060</td>\n",
       "      <td>二手音樂cd 98度單曲 征服未來</td>\n",
       "      <td>[0.025065604597330093, 0.0536174438893795, -0....</td>\n",
       "    </tr>\n",
       "    <tr>\n",
       "      <th>1</th>\n",
       "      <td>10060831298854</td>\n",
       "      <td>纖維彈簧透氣墊 沙發 汽車 電腦椅 輪椅 透氣椅墊 透氣坐墊 透氣座墊 小寵物墊 通風 散熱...</td>\n",
       "      <td>[0.030799880623817444, -0.07103081047534943, -...</td>\n",
       "    </tr>\n",
       "    <tr>\n",
       "      <th>2</th>\n",
       "      <td>10060908825888</td>\n",
       "      <td>hikaru no go棋靈王便條紙</td>\n",
       "      <td>[0.064357228577137, 0.016072463244199753, -0.0...</td>\n",
       "    </tr>\n",
       "    <tr>\n",
       "      <th>3</th>\n",
       "      <td>10060924029666</td>\n",
       "      <td>曹錦輝 tsao chin hui 2005 topps heritage 317</td>\n",
       "      <td>[-0.08539468050003052, 0.13184863328933716, -0...</td>\n",
       "    </tr>\n",
       "    <tr>\n",
       "      <th>4</th>\n",
       "      <td>10061017636459</td>\n",
       "      <td>墨水王 評價9000 lxmark epson canon hp 高品質台灣填充墨水</td>\n",
       "      <td>[-0.028074568137526512, -0.014946662820875645,...</td>\n",
       "    </tr>\n",
       "  </tbody>\n",
       "</table>\n",
       "</div>"
      ],
      "text/plain": [
       "          item_id                                          item_name  \\\n",
       "0  10060814036060                                  二手音樂cd 98度單曲 征服未來   \n",
       "1  10060831298854  纖維彈簧透氣墊 沙發 汽車 電腦椅 輪椅 透氣椅墊 透氣坐墊 透氣座墊 小寵物墊 通風 散熱...   \n",
       "2  10060908825888                                 hikaru no go棋靈王便條紙   \n",
       "3  10060924029666          曹錦輝 tsao chin hui 2005 topps heritage 317   \n",
       "4  10061017636459         墨水王 評價9000 lxmark epson canon hp 高品質台灣填充墨水   \n",
       "\n",
       "                                          embeddings  \n",
       "0  [0.025065604597330093, 0.0536174438893795, -0....  \n",
       "1  [0.030799880623817444, -0.07103081047534943, -...  \n",
       "2  [0.064357228577137, 0.016072463244199753, -0.0...  \n",
       "3  [-0.08539468050003052, 0.13184863328933716, -0...  \n",
       "4  [-0.028074568137526512, -0.014946662820875645,...  "
      ]
     },
     "execution_count": 10,
     "metadata": {},
     "output_type": "execute_result"
    }
   ],
   "source": [
    "item_names_df['embeddings'] = embeddings.tolist()\n",
    "item_names_df.head()"
   ]
  },
  {
   "cell_type": "code",
   "execution_count": 11,
   "id": "ebdac28e",
   "metadata": {},
   "outputs": [],
   "source": [
    "item_names_df[['item_id', 'embeddings']].to_parquet(\"/tmp/mpnet_embeddings.parquet\", engine='pyarrow', compression='snappy')"
   ]
  },
  {
   "cell_type": "code",
   "execution_count": null,
   "id": "7bab70ce",
   "metadata": {},
   "outputs": [],
   "source": [
    "!hdfs dfs -copyFromLocal /tmp/mpnet_embeddings.parquet \"/ruten/mpnet_embeddings.parquet\""
   ]
  }
 ],
 "metadata": {
  "kernelspec": {
   "display_name": "Python 3 (ipykernel)",
   "language": "python",
   "name": "python3"
  }
 },
 "nbformat": 4,
 "nbformat_minor": 5
}
