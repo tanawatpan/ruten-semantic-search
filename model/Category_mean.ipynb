{
 "cells": [
  {
   "cell_type": "code",
   "execution_count": 1,
   "id": "fb6bde06-586c-4d0e-b793-fb499dc75203",
   "metadata": {},
   "outputs": [],
   "source": [
    "import warnings\n",
    "warnings.filterwarnings(\"ignore\")\n",
    "\n",
    "import findspark\n",
    "findspark.init()\n",
    "\n",
    "from pyspark.ml.functions import array_to_vector, vector_to_array\n",
    "from pyspark.ml.stat import Summarizer\n",
    "from pyspark.sql import SparkSession\n",
    "from pyspark.sql.functions import *\n",
    "\n",
    "import pyarrow.parquet as pq\n",
    "import pandas as pd\n",
    "import numpy as np\n",
    "import re"
   ]
  },
  {
   "cell_type": "code",
   "execution_count": 2,
   "id": "ab29353c-8964-4fe7-94c5-136b3fe0ab21",
   "metadata": {},
   "outputs": [],
   "source": [
    "parrallelism = 8"
   ]
  },
  {
   "cell_type": "code",
   "execution_count": 3,
   "id": "bd19756d-4b1e-4612-aece-53196408fe71",
   "metadata": {},
   "outputs": [
    {
     "name": "stderr",
     "output_type": "stream",
     "text": [
      "Setting default log level to \"WARN\".\n",
      "To adjust logging level use sc.setLogLevel(newLevel). For SparkR, use setLogLevel(newLevel).\n",
      "23/06/07 11:18:48 WARN Utils: Service 'SparkUI' could not bind on port 4040. Attempting port 4041.\n"
     ]
    }
   ],
   "source": [
    "spark = SparkSession.builder \\\n",
    "                    .appName('Mean Categories') \\\n",
    "                    .config(\"spark.dynamicAllocation.enabled\", False) \\\n",
    "                    .config(\"spark.driver.memory\", \"4g\") \\\n",
    "                    .config(\"spark.cores.max\", parrallelism) \\\n",
    "                    .config(\"spark.executor.instances\", parrallelism) \\\n",
    "                    .config(\"spark.executor.cores\", 1) \\\n",
    "                    .config(\"spark.executor.memory\", \"6g\") \\\n",
    "                    .enableHiveSupport() \\\n",
    "                    .getOrCreate()\n",
    "\n",
    "sc = spark.sparkContext\n",
    "sc.setLogLevel(\"ERROR\")"
   ]
  },
  {
   "cell_type": "code",
   "execution_count": 5,
   "id": "8101f31e-bed9-4dad-8686-a985f5a33423",
   "metadata": {},
   "outputs": [],
   "source": [
    "category = spark.read.table(\"ruten.items\").select(\"category_name\", \"item_id\").distinct().alias(\"i\").cache()\n",
    "\n",
    "category_bert_mean = ( spark.read.table(\"ruten.item_bert_embeddings\")\n",
    "                      .join(category, on=\"item_id\", how=\"inner\" )\n",
    "                      .select(\"i.category_name\", array_to_vector(\"embedding\").alias(\"embedding\") )\n",
    "                      .groupBy(\"i.category_name\").agg(Summarizer.mean(col(\"embedding\")).alias(\"means\")) )"
   ]
  },
  {
   "cell_type": "code",
   "execution_count": 6,
   "id": "c815cb6b-ff29-4dd4-ab38-2062eca5421d",
   "metadata": {},
   "outputs": [
    {
     "name": "stderr",
     "output_type": "stream",
     "text": [
      "                                                                                \r"
     ]
    }
   ],
   "source": [
    "category_bert_mean \\\n",
    "    .withColumn(\"means\", vector_to_array(col(\"means\")) ) \\\n",
    "    .write.mode(\"overwrite\") \\\n",
    "    .saveAsTable(\"ruten.category_bert_mean\")"
   ]
  },
  {
   "cell_type": "code",
   "execution_count": 8,
   "id": "78e89cff-2692-4d2f-97d6-7efa4982c90e",
   "metadata": {},
   "outputs": [
    {
     "name": "stdout",
     "output_type": "stream",
     "text": [
      "+--------------+--------------------------------------------------------------------------------+\n",
      "| category_name|                                                                           means|\n",
      "+--------------+--------------------------------------------------------------------------------+\n",
      "|  其他事務用品|[0.015318099806923842, -0.06862425321653287, -0.01495216189873185, 0.06262199...|\n",
      "|        南北貨|[0.02332762520182198, -0.006393144300872907, -0.013879214193070342, 0.0454430...|\n",
      "|      多段變頻|[0.07199920323972056, -0.06529106213045878, -0.015270731338711244, 0.02465232...|\n",
      "|布料、布飾用品|[0.022684920082191057, -0.08251138266299793, -0.01717377680467156, 0.07631546...|\n",
      "|        BL小說|[0.06470077777137676, 0.09910147837150007, -0.01709956380849084, 0.0616534070...|\n",
      "|      其他漫畫|[0.06163656314060818, 0.10261786172115997, -0.015232874225089697, 0.065954661...|\n",
      "|國中、國小用書|[0.022476823187816082, 0.08254795025494631, -0.016955095660812845, 0.04092600...|\n",
      "|引擎、車組零件|[-0.04060564998260812, -0.09625831360981695, -0.011820811662096857, 0.1277043...|\n",
      "|        遊戲王|[0.04699756976738246, 0.0473909448114028, -0.015107346555596982, 0.0727436882...|\n",
      "|        咖啡豆|[-0.0030345031402927267, 0.006345906802420976, -0.013217027416592282, 0.07764...|\n",
      "+--------------+--------------------------------------------------------------------------------+\n",
      "only showing top 10 rows\n",
      "\n"
     ]
    }
   ],
   "source": [
    "spark.read.table(\"ruten.category_bert_mean\").show(10, truncate=80)"
   ]
  }
 ],
 "metadata": {
  "kernelspec": {
   "display_name": "Python 3 (ipykernel)",
   "language": "python",
   "name": "python3"
  }
 },
 "nbformat": 4,
 "nbformat_minor": 5
}
