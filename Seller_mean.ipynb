{
 "cells": [
  {
   "cell_type": "code",
   "execution_count": 13,
   "id": "398822b2-eff9-446d-905d-8e255ddf6ad7",
   "metadata": {},
   "outputs": [],
   "source": [
    "import warnings\n",
    "warnings.filterwarnings(\"ignore\")\n",
    "\n",
    "import findspark\n",
    "findspark.init()\n",
    "\n",
    "from pyspark.ml.functions import array_to_vector, vector_to_array\n",
    "from pyspark.ml.stat import Summarizer\n",
    "from pyspark.sql import SparkSession\n",
    "from pyspark.sql.functions import *\n",
    "\n",
    "import pyarrow.parquet as pq\n",
    "import pandas as pd\n",
    "import numpy as np\n",
    "import re"
   ]
  },
  {
   "cell_type": "code",
   "execution_count": 2,
   "id": "d3c0a929-6cb7-423a-a907-76c068d8cc5b",
   "metadata": {},
   "outputs": [],
   "source": [
    "parrallelism = 8"
   ]
  },
  {
   "cell_type": "code",
   "execution_count": 3,
   "id": "b14512cc-8153-4ba9-9e02-1187d4f7e6e4",
   "metadata": {},
   "outputs": [
    {
     "name": "stderr",
     "output_type": "stream",
     "text": [
      "Setting default log level to \"WARN\".\n",
      "To adjust logging level use sc.setLogLevel(newLevel). For SparkR, use setLogLevel(newLevel).\n"
     ]
    }
   ],
   "source": [
    "spark = SparkSession.builder \\\n",
    "                    .appName('Mean Categories') \\\n",
    "                    .config(\"spark.dynamicAllocation.enabled\", False) \\\n",
    "                    .config(\"spark.driver.memory\", \"4g\") \\\n",
    "                    .config(\"spark.cores.max\", parrallelism) \\\n",
    "                    .config(\"spark.executor.instances\", parrallelism) \\\n",
    "                    .config(\"spark.executor.cores\", 1) \\\n",
    "                    .config(\"spark.executor.memory\", \"6g\") \\\n",
    "                    .enableHiveSupport() \\\n",
    "                    .getOrCreate()\n",
    "\n",
    "sc = spark.sparkContext\n",
    "sc.setLogLevel(\"ERROR\")"
   ]
  },
  {
   "cell_type": "code",
   "execution_count": 8,
   "id": "ae8ffca8-1a92-4059-8691-c001c1244f8c",
   "metadata": {},
   "outputs": [],
   "source": [
    "goods = spark.read.table(\"ruten.goods\")\n",
    "items = spark.read.table(\"ruten.items\")\n",
    "\n",
    "sellers = goods.join(items, goods.item_id == items.item_id) \\\n",
    "            .select(goods.seller_id, trim(goods.seller_nickname).alias(\"seller_nickname\"), items.item_id) \\\n",
    "            .distinct().alias(\"s\").cache()\n",
    "\n",
    "seller_bert_mean = ( spark.read.table(\"ruten.item_bert_embeddings\")\n",
    "                      .join(sellers, on=\"item_id\", how=\"inner\" )\n",
    "                      .select(\"s.seller_nickname\", array_to_vector(\"embedding\").alias(\"embedding\") )\n",
    "                      .groupBy(\"s.seller_nickname\").agg(Summarizer.mean(col(\"embedding\")).alias(\"means\")) )\n",
    "\n",
    "seller_mpnet_mean = ( spark.read.table(\"ruten.item_mpnet_embeddings\")\n",
    "                      .join(sellers, on=\"item_id\", how=\"inner\" )\n",
    "                      .select(\"s.seller_nickname\", array_to_vector(\"embedding\").alias(\"embedding\") )\n",
    "                      .groupBy(\"s.seller_nickname\").agg(Summarizer.mean(col(\"embedding\")).alias(\"means\")) )\n",
    "\n",
    "seller_roberta_mean = ( spark.read.table(\"ruten.item_roberta_embeddings\")\n",
    "                      .join(sellers, on=\"item_id\", how=\"inner\" )\n",
    "                      .select(\"s.seller_nickname\", array_to_vector(\"embedding\").alias(\"embedding\") )\n",
    "                      .groupBy(\"s.seller_nickname\").agg(Summarizer.mean(col(\"embedding\")).alias(\"means\")) )"
   ]
  },
  {
   "cell_type": "code",
   "execution_count": 14,
   "id": "39331503-e051-4bbd-ac8f-03659f5b2f2f",
   "metadata": {},
   "outputs": [
    {
     "name": "stderr",
     "output_type": "stream",
     "text": [
      "                                                                                \r"
     ]
    }
   ],
   "source": [
    "seller_bert_mean \\\n",
    "    .withColumn(\"means\", vector_to_array(col(\"means\")) ) \\\n",
    "    .write.mode(\"overwrite\") \\\n",
    "    .saveAsTable(\"ruten.seller_bert_mean\")\n",
    "\n",
    "seller_mpnet_mean \\\n",
    "    .withColumn(\"means\", vector_to_array(col(\"means\")) ) \\\n",
    "    .write.mode(\"overwrite\") \\\n",
    "    .saveAsTable(\"ruten.seller_mpnet_mean\")\n",
    "\n",
    "seller_roberta_mean \\\n",
    "    .withColumn(\"means\", vector_to_array(col(\"means\")) ) \\\n",
    "    .write.mode(\"overwrite\") \\\n",
    "    .saveAsTable(\"ruten.seller_roberta_mean\")"
   ]
  },
  {
   "cell_type": "code",
   "execution_count": 17,
   "id": "5605256e-0ec6-4d9b-a251-964eedbe0ad7",
   "metadata": {},
   "outputs": [
    {
     "name": "stdout",
     "output_type": "stream",
     "text": [
      "+---------------+--------------------------------------------------------------------------------+\n",
      "|seller_nickname|                                                                           means|\n",
      "+---------------+--------------------------------------------------------------------------------+\n",
      "|         01diro|[-0.056929703801870346, -0.04218580946326256, -0.01768401823937893, 0.0588154...|\n",
      "|     0424634075|[-0.06633256189525127, -0.08288780320435762, -0.012077237013727427, 0.0842352...|\n",
      "|       0433kink|[-0.06585595346987247, -0.16937275975942614, -0.016787812610467273, 0.1343832...|\n",
      "|        0435477|[0.06272678822278976, -0.10116132348775864, -0.017282670363783836, 0.04581346...|\n",
      "|       06100921|[0.01666453063632522, -0.038587991465364804, -0.012625398869016048, 0.0953165...|\n",
      "|         0723lc|[-0.040193647146224976, -0.06348846852779388, -0.012742171064019203, 0.065037...|\n",
      "|     0902553630|[0.07662977526585261, -0.06022613992293676, -0.014840484596788883, 0.07983168...|\n",
      "|    0902601877a|[0.032215416431427, 0.04270445927977562, -0.018685894086956978, 0.06977023184...|\n",
      "|     0910083550|[0.020742082968354225, -0.09016140177845955, -0.015206263400614262, 0.0325489...|\n",
      "|     0913758161|[-0.006070034112781285, -0.04458676744252443, -0.013494590483605861, 0.082116...|\n",
      "+---------------+--------------------------------------------------------------------------------+\n",
      "only showing top 10 rows\n",
      "\n"
     ]
    },
    {
     "name": "stderr",
     "output_type": "stream",
     "text": [
      "                                                                                \r"
     ]
    }
   ],
   "source": [
    "spark.read.table(\"ruten.seller_mpnet_mean\").show(10, truncate=80)"
   ]
  },
  {
   "cell_type": "code",
   "execution_count": 16,
   "id": "9f19eb67-7cb8-44db-9ed2-12ac4b5b2e70",
   "metadata": {},
   "outputs": [
    {
     "name": "stdout",
     "output_type": "stream",
     "text": [
      "+---------------+--------------------------------------------------------------------------------+\n",
      "|seller_nickname|                                                                           means|\n",
      "+---------------+--------------------------------------------------------------------------------+\n",
      "|         01diro|[-0.009230716153979301, 0.0041698310524225235, -0.015844877809286118, 0.00848...|\n",
      "|     0424634075|[0.006412898132111877, 0.009556040167808533, 0.005233170231804252, 0.00587945...|\n",
      "|       0433kink|[0.045148008130490774, -0.008256737433839588, -0.003538392561798294, -0.00754...|\n",
      "|        0435477|[0.06136468052864075, 0.03238063305616379, -0.026400094851851463, 0.007108700...|\n",
      "|       06100921|[0.034363214889990876, 0.027591509262806384, 0.002779285608116409, 0.01748632...|\n",
      "|         0723lc|[0.03015187941491604, 0.020539559423923492, -0.010590951889753342, 0.00507627...|\n",
      "|     0902553630|[0.023145358078181744, 0.0031898897917320332, -0.014856083629031975, 0.005086...|\n",
      "|    0902601877a|[0.017647841945290565, 0.02882794290781021, -0.005289915017783642, 0.01124096...|\n",
      "|     0910083550|[0.0293255764991045, 0.024467162787914276, -0.016002112766727805, 0.001047340...|\n",
      "|     0913758161|[0.019793413334991784, 0.003043951996369287, -0.0037773945019580423, 0.006409...|\n",
      "+---------------+--------------------------------------------------------------------------------+\n",
      "only showing top 10 rows\n",
      "\n"
     ]
    },
    {
     "name": "stderr",
     "output_type": "stream",
     "text": [
      "                                                                                \r"
     ]
    }
   ],
   "source": [
    "spark.read.table(\"ruten.seller_roberta_mean\").show(10, truncate=80)"
   ]
  }
 ],
 "metadata": {
  "kernelspec": {
   "display_name": "Python 3 (ipykernel)",
   "language": "python",
   "name": "python3"
  },
  "language_info": {
   "codemirror_mode": {
    "name": "ipython",
    "version": 3
   },
   "file_extension": ".py",
   "mimetype": "text/x-python",
   "name": "python",
   "nbconvert_exporter": "python",
   "pygments_lexer": "ipython3",
   "version": "3.11.3"
  }
 },
 "nbformat": 4,
 "nbformat_minor": 5
}
