{
 "cells": [
  {
   "cell_type": "code",
   "execution_count": null,
   "id": "6041fdc3-4d2f-427b-882f-438bb08db55a",
   "metadata": {
    "scrolled": true
   },
   "outputs": [],
   "source": [
    "%pip install sentence-transformers tqdm pyarrow"
   ]
  },
  {
   "cell_type": "code",
   "execution_count": 13,
   "id": "2fbde6dd-b6d8-4e10-931d-52e500a308a7",
   "metadata": {},
   "outputs": [],
   "source": [
    "import os\n",
    "os.environ[\"TF_GPU_ALLOCATOR\"] = \"cuda_malloc_async\"\n",
    "\n",
    "import warnings\n",
    "warnings.filterwarnings(\"ignore\")\n",
    "\n",
    "import findspark\n",
    "findspark.init()\n",
    "\n",
    "from pyspark.sql import SparkSession\n",
    "from pyspark.sql.functions import *\n",
    "from pyspark.sql.types import *\n",
    "\n",
    "from transformers import BertTokenizerFast, TFBertModel\n",
    "from sentence_transformers import util\n",
    "from tqdm import tqdm\n",
    "\n",
    "import tensorflow as tf\n",
    "import pyarrow as pa\n",
    "import pandas as pd\n",
    "import numpy as np"
   ]
  },
  {
   "cell_type": "code",
   "execution_count": null,
   "id": "87fd1359-3a1f-42af-99be-3ea66ce58b95",
   "metadata": {},
   "outputs": [],
   "source": [
    "tokenizer = BertTokenizerFast.from_pretrained('hfl/chinese-roberta-wwm-ext')\n",
    "model = TFBertModel.from_pretrained('hfl/chinese-roberta-wwm-ext')"
   ]
  },
  {
   "cell_type": "code",
   "execution_count": 3,
   "id": "644f31a4-5550-4aac-8753-eb0bd17b2b81",
   "metadata": {},
   "outputs": [
    {
     "name": "stderr",
     "output_type": "stream",
     "text": [
      "Setting default log level to \"WARN\".\n",
      "To adjust logging level use sc.setLogLevel(newLevel). For SparkR, use setLogLevel(newLevel).\n"
     ]
    }
   ],
   "source": [
    "parallelism = 4\n",
    "\n",
    "spark = SparkSession.builder \\\n",
    "                    .appName('Roberta Sentence Embedding') \\\n",
    "                    .config(\"spark.dynamicAllocation.enabled\", False) \\\n",
    "                    .config(\"spark.driver.memory\", \"4g\") \\\n",
    "                    .config(\"spark.cores.max\", parallelism) \\\n",
    "                    .config(\"spark.executor.instances\", parallelism) \\\n",
    "                    .config(\"spark.executor.cores\", 1) \\\n",
    "                    .config(\"spark.executor.memory\", \"8g\") \\\n",
    "                    .enableHiveSupport() \\\n",
    "                    .getOrCreate()\n",
    "\n",
    "sc = spark.sparkContext\n",
    "sc.setLogLevel(\"ERROR\")"
   ]
  },
  {
   "cell_type": "code",
   "execution_count": 4,
   "id": "6dc0e41c-702b-4fe3-9c7e-3de66ff729fc",
   "metadata": {},
   "outputs": [],
   "source": [
    "goods = spark.table(\"ruten.goods\")\n",
    "orders = spark.table(\"ruten.orders\")\n",
    "goods_vs_keywords = spark.table(\"ruten.goods_vs_keywords\")\n",
    "\n",
    "data = goods.join(orders, goods.item_id == orders.item_id, how=\"left\") \\\n",
    "        .join(goods_vs_keywords, goods_vs_keywords.GNO == goods.item_id, how=\"left\") \\\n",
    "        .where( col(\"orders.item_id\").isNotNull() | col(\"goods_vs_keywords.gno\").isNotNull() ) \\\n",
    "        .select(goods.item_id, goods.item_name) \\\n",
    "        .withColumn(\n",
    "            \"item_name\", \n",
    "            lower(trim(\n",
    "                regexp_replace(regexp_replace(col(\"item_name\"), '&#\\w+;', ''), '[^\\u4e00-\\u9fffa-zA-Z0-9]+', ' ')\n",
    "        )) ) \\\n",
    "        .distinct()"
   ]
  },
  {
   "cell_type": "code",
   "execution_count": 5,
   "id": "9e65b4fa-d23f-4d02-99a7-32bd5aa791c2",
   "metadata": {},
   "outputs": [
    {
     "name": "stderr",
     "output_type": "stream",
     "text": [
      "                                                                                \r"
     ]
    },
    {
     "data": {
      "text/html": [
       "<div>\n",
       "<style scoped>\n",
       "    .dataframe tbody tr th:only-of-type {\n",
       "        vertical-align: middle;\n",
       "    }\n",
       "\n",
       "    .dataframe tbody tr th {\n",
       "        vertical-align: top;\n",
       "    }\n",
       "\n",
       "    .dataframe thead th {\n",
       "        text-align: right;\n",
       "    }\n",
       "</style>\n",
       "<table border=\"1\" class=\"dataframe\">\n",
       "  <thead>\n",
       "    <tr style=\"text-align: right;\">\n",
       "      <th></th>\n",
       "      <th>item_id</th>\n",
       "      <th>item_name</th>\n",
       "    </tr>\n",
       "  </thead>\n",
       "  <tbody>\n",
       "    <tr>\n",
       "      <th>0</th>\n",
       "      <td>10060814036060</td>\n",
       "      <td>二手音樂cd 98度單曲 征服未來</td>\n",
       "    </tr>\n",
       "    <tr>\n",
       "      <th>1</th>\n",
       "      <td>10060831298854</td>\n",
       "      <td>纖維彈簧透氣墊 沙發 汽車 電腦椅 輪椅 透氣椅墊 透氣坐墊 透氣座墊 小寵物墊 通風 散熱...</td>\n",
       "    </tr>\n",
       "    <tr>\n",
       "      <th>2</th>\n",
       "      <td>10060908825888</td>\n",
       "      <td>hikaru no go棋靈王便條紙</td>\n",
       "    </tr>\n",
       "    <tr>\n",
       "      <th>3</th>\n",
       "      <td>10060924029666</td>\n",
       "      <td>曹錦輝 tsao chin hui 2005 topps heritage 317</td>\n",
       "    </tr>\n",
       "    <tr>\n",
       "      <th>4</th>\n",
       "      <td>10061017636459</td>\n",
       "      <td>墨水王 評價9000 lxmark epson canon hp 高品質台灣填充墨水</td>\n",
       "    </tr>\n",
       "    <tr>\n",
       "      <th>...</th>\n",
       "      <td>...</td>\n",
       "      <td>...</td>\n",
       "    </tr>\n",
       "    <tr>\n",
       "      <th>1246576</th>\n",
       "      <td>22152635903312</td>\n",
       "      <td>jspb g5 標準版拉把</td>\n",
       "    </tr>\n",
       "    <tr>\n",
       "      <th>1246577</th>\n",
       "      <td>22152636113923</td>\n",
       "      <td>限fb買家陳先生下標購買rgeva貳號機</td>\n",
       "    </tr>\n",
       "    <tr>\n",
       "      <th>1246578</th>\n",
       "      <td>22152636835665</td>\n",
       "      <td>fun patch臂章圖鑑 限時預購</td>\n",
       "    </tr>\n",
       "    <tr>\n",
       "      <th>1246579</th>\n",
       "      <td>22152637425256</td>\n",
       "      <td>h 日版cd 安室奈美 break the rules song nation lovin it</td>\n",
       "    </tr>\n",
       "    <tr>\n",
       "      <th>1246580</th>\n",
       "      <td>22152638734520</td>\n",
       "      <td>專屬賣場 其它人請勿下標</td>\n",
       "    </tr>\n",
       "  </tbody>\n",
       "</table>\n",
       "<p>1246581 rows × 2 columns</p>\n",
       "</div>"
      ],
      "text/plain": [
       "                item_id                                          item_name\n",
       "0        10060814036060                                  二手音樂cd 98度單曲 征服未來\n",
       "1        10060831298854  纖維彈簧透氣墊 沙發 汽車 電腦椅 輪椅 透氣椅墊 透氣坐墊 透氣座墊 小寵物墊 通風 散熱...\n",
       "2        10060908825888                                 hikaru no go棋靈王便條紙\n",
       "3        10060924029666          曹錦輝 tsao chin hui 2005 topps heritage 317\n",
       "4        10061017636459         墨水王 評價9000 lxmark epson canon hp 高品質台灣填充墨水\n",
       "...                 ...                                                ...\n",
       "1246576  22152635903312                                      jspb g5 標準版拉把\n",
       "1246577  22152636113923                               限fb買家陳先生下標購買rgeva貳號機\n",
       "1246578  22152636835665                                 fun patch臂章圖鑑 限時預購\n",
       "1246579  22152637425256   h 日版cd 安室奈美 break the rules song nation lovin it\n",
       "1246580  22152638734520                                       專屬賣場 其它人請勿下標\n",
       "\n",
       "[1246581 rows x 2 columns]"
      ]
     },
     "execution_count": 5,
     "metadata": {},
     "output_type": "execute_result"
    }
   ],
   "source": [
    "item_names_df = data.toPandas()\n",
    "item_names_df"
   ]
  },
  {
   "cell_type": "code",
   "execution_count": 6,
   "id": "5cd70ef4-9b88-48e2-ae3b-3febaa19dedc",
   "metadata": {},
   "outputs": [],
   "source": [
    "def mean_pooling(model_output, attention_mask):\n",
    "    token_embeddings = model_output[0]  # First element of model_output contains all token embeddings\n",
    "    input_mask_expanded = tf.cast(tf.expand_dims(attention_mask, -1), tf.float32)\n",
    "    sum_embeddings = tf.reduce_sum(token_embeddings * input_mask_expanded, axis=1)\n",
    "    sum_mask = tf.math.reduce_sum(input_mask_expanded, axis=1)\n",
    "    sentence_embeddings = sum_embeddings / tf.math.maximum(sum_mask, 1e-9)\n",
    "    return tf.math.l2_normalize(sentence_embeddings, axis=1)"
   ]
  },
  {
   "cell_type": "code",
   "execution_count": 7,
   "id": "4d2138ed",
   "metadata": {},
   "outputs": [],
   "source": [
    "batch_size = 1000\n",
    "item_names = item_names_df.item_name.tolist()\n",
    "num_batches = int(np.ceil( len(item_names) / batch_size ))\n",
    "batches = [item_names[i * batch_size : (i + 1) * batch_size] for i in range(num_batches)]"
   ]
  },
  {
   "cell_type": "code",
   "execution_count": 8,
   "id": "520f5f15",
   "metadata": {},
   "outputs": [
    {
     "name": "stderr",
     "output_type": "stream",
     "text": [
      "100%|██████████| 1247/1247 [1:21:41<00:00,  3.93s/it]\n"
     ]
    }
   ],
   "source": [
    "embeddings = []\n",
    "\n",
    "with tqdm(total=num_batches) as pbar:\n",
    "    for batch in batches:\n",
    "        encoded_input = tokenizer(\n",
    "            batch,\n",
    "            max_length=128, \n",
    "            padding=True,\n",
    "            truncation=True, \n",
    "            return_tensors=\"tf\"\n",
    "        )\n",
    "        model_output = model(**encoded_input)\n",
    "        embeddings.extend(mean_pooling(model_output, encoded_input['attention_mask']).numpy())\n",
    "        pbar.update(1)\n",
    "\n",
    "item_names_df['embedding'] = embeddings"
   ]
  },
  {
   "cell_type": "code",
   "execution_count": 9,
   "id": "1813e486",
   "metadata": {},
   "outputs": [
    {
     "data": {
      "text/html": [
       "<div>\n",
       "<style scoped>\n",
       "    .dataframe tbody tr th:only-of-type {\n",
       "        vertical-align: middle;\n",
       "    }\n",
       "\n",
       "    .dataframe tbody tr th {\n",
       "        vertical-align: top;\n",
       "    }\n",
       "\n",
       "    .dataframe thead th {\n",
       "        text-align: right;\n",
       "    }\n",
       "</style>\n",
       "<table border=\"1\" class=\"dataframe\">\n",
       "  <thead>\n",
       "    <tr style=\"text-align: right;\">\n",
       "      <th></th>\n",
       "      <th>item_id</th>\n",
       "      <th>item_name</th>\n",
       "      <th>embedding</th>\n",
       "    </tr>\n",
       "  </thead>\n",
       "  <tbody>\n",
       "    <tr>\n",
       "      <th>0</th>\n",
       "      <td>10060814036060</td>\n",
       "      <td>二手音樂cd 98度單曲 征服未來</td>\n",
       "      <td>[0.017046705, 0.06566689, 0.012368624, 0.01565...</td>\n",
       "    </tr>\n",
       "    <tr>\n",
       "      <th>1</th>\n",
       "      <td>10060831298854</td>\n",
       "      <td>纖維彈簧透氣墊 沙發 汽車 電腦椅 輪椅 透氣椅墊 透氣坐墊 透氣座墊 小寵物墊 通風 散熱...</td>\n",
       "      <td>[0.029443927, 0.010932564, -0.006758356, 0.021...</td>\n",
       "    </tr>\n",
       "    <tr>\n",
       "      <th>2</th>\n",
       "      <td>10060908825888</td>\n",
       "      <td>hikaru no go棋靈王便條紙</td>\n",
       "      <td>[0.013676894, 0.014121184, 0.046186905, 0.0211...</td>\n",
       "    </tr>\n",
       "    <tr>\n",
       "      <th>3</th>\n",
       "      <td>10060924029666</td>\n",
       "      <td>曹錦輝 tsao chin hui 2005 topps heritage 317</td>\n",
       "      <td>[-0.0232483, 0.026301824, 0.03411942, 0.027663...</td>\n",
       "    </tr>\n",
       "    <tr>\n",
       "      <th>4</th>\n",
       "      <td>10061017636459</td>\n",
       "      <td>墨水王 評價9000 lxmark epson canon hp 高品質台灣填充墨水</td>\n",
       "      <td>[0.01797593, 0.011586101, -0.014641057, 0.0164...</td>\n",
       "    </tr>\n",
       "    <tr>\n",
       "      <th>...</th>\n",
       "      <td>...</td>\n",
       "      <td>...</td>\n",
       "      <td>...</td>\n",
       "    </tr>\n",
       "    <tr>\n",
       "      <th>1246576</th>\n",
       "      <td>22152635903312</td>\n",
       "      <td>jspb g5 標準版拉把</td>\n",
       "      <td>[0.016783109, 0.006942966, -0.017080883, 0.029...</td>\n",
       "    </tr>\n",
       "    <tr>\n",
       "      <th>1246577</th>\n",
       "      <td>22152636113923</td>\n",
       "      <td>限fb買家陳先生下標購買rgeva貳號機</td>\n",
       "      <td>[0.04315454, 0.01662747, 0.016533075, 0.019895...</td>\n",
       "    </tr>\n",
       "    <tr>\n",
       "      <th>1246578</th>\n",
       "      <td>22152636835665</td>\n",
       "      <td>fun patch臂章圖鑑 限時預購</td>\n",
       "      <td>[0.0015115625, 0.05576491, 0.038529985, 0.0143...</td>\n",
       "    </tr>\n",
       "    <tr>\n",
       "      <th>1246579</th>\n",
       "      <td>22152637425256</td>\n",
       "      <td>h 日版cd 安室奈美 break the rules song nation lovin it</td>\n",
       "      <td>[0.009355322, 0.040769435, 0.02524915, 0.02601...</td>\n",
       "    </tr>\n",
       "    <tr>\n",
       "      <th>1246580</th>\n",
       "      <td>22152638734520</td>\n",
       "      <td>專屬賣場 其它人請勿下標</td>\n",
       "      <td>[0.02683389, 0.043720946, -0.0060291463, -0.00...</td>\n",
       "    </tr>\n",
       "  </tbody>\n",
       "</table>\n",
       "<p>1246581 rows × 3 columns</p>\n",
       "</div>"
      ],
      "text/plain": [
       "                item_id                                          item_name  \\\n",
       "0        10060814036060                                  二手音樂cd 98度單曲 征服未來   \n",
       "1        10060831298854  纖維彈簧透氣墊 沙發 汽車 電腦椅 輪椅 透氣椅墊 透氣坐墊 透氣座墊 小寵物墊 通風 散熱...   \n",
       "2        10060908825888                                 hikaru no go棋靈王便條紙   \n",
       "3        10060924029666          曹錦輝 tsao chin hui 2005 topps heritage 317   \n",
       "4        10061017636459         墨水王 評價9000 lxmark epson canon hp 高品質台灣填充墨水   \n",
       "...                 ...                                                ...   \n",
       "1246576  22152635903312                                      jspb g5 標準版拉把   \n",
       "1246577  22152636113923                               限fb買家陳先生下標購買rgeva貳號機   \n",
       "1246578  22152636835665                                 fun patch臂章圖鑑 限時預購   \n",
       "1246579  22152637425256   h 日版cd 安室奈美 break the rules song nation lovin it   \n",
       "1246580  22152638734520                                       專屬賣場 其它人請勿下標   \n",
       "\n",
       "                                                 embedding  \n",
       "0        [0.017046705, 0.06566689, 0.012368624, 0.01565...  \n",
       "1        [0.029443927, 0.010932564, -0.006758356, 0.021...  \n",
       "2        [0.013676894, 0.014121184, 0.046186905, 0.0211...  \n",
       "3        [-0.0232483, 0.026301824, 0.03411942, 0.027663...  \n",
       "4        [0.01797593, 0.011586101, -0.014641057, 0.0164...  \n",
       "...                                                    ...  \n",
       "1246576  [0.016783109, 0.006942966, -0.017080883, 0.029...  \n",
       "1246577  [0.04315454, 0.01662747, 0.016533075, 0.019895...  \n",
       "1246578  [0.0015115625, 0.05576491, 0.038529985, 0.0143...  \n",
       "1246579  [0.009355322, 0.040769435, 0.02524915, 0.02601...  \n",
       "1246580  [0.02683389, 0.043720946, -0.0060291463, -0.00...  \n",
       "\n",
       "[1246581 rows x 3 columns]"
      ]
     },
     "execution_count": 9,
     "metadata": {},
     "output_type": "execute_result"
    }
   ],
   "source": [
    "item_names_df"
   ]
  },
  {
   "cell_type": "code",
   "execution_count": 14,
   "id": "da5cfcd5-c4f2-4b57-b5ca-a7ac53096e6e",
   "metadata": {},
   "outputs": [],
   "source": [
    "item_names_df[['item_id', 'embeddings']].to_parquet(\"/tmp/roberta_embeddings.parquet\", engine='pyarrow', compression='snappy')"
   ]
  },
  {
   "cell_type": "code",
   "execution_count": null,
   "id": "1d9f0f9f-9a30-4d61-9e48-53c0f2b1c5c5",
   "metadata": {},
   "outputs": [],
   "source": [
    "!hdfs dfs -copyFromLocal /tmp/roberta_embeddings.parquet \"/ruten/roberta_embeddings.parquet\""
   ]
  }
 ],
 "metadata": {
  "kernelspec": {
   "display_name": "Python 3 (ipykernel)",
   "language": "python",
   "name": "python3"
  },
  "language_info": {
   "codemirror_mode": {
    "name": "ipython",
    "version": 3
   },
   "file_extension": ".py",
   "mimetype": "text/x-python",
   "name": "python",
   "nbconvert_exporter": "python",
   "pygments_lexer": "ipython3",
   "version": "3.11.3"
  }
 },
 "nbformat": 4,
 "nbformat_minor": 5
}
