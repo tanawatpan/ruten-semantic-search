{
 "cells": [
  {
   "cell_type": "code",
   "execution_count": 6,
   "id": "fb6bde06-586c-4d0e-b793-fb499dc75203",
   "metadata": {},
   "outputs": [],
   "source": [
    "import warnings\n",
    "warnings.filterwarnings(\"ignore\")\n",
    "\n",
    "import findspark\n",
    "findspark.init()\n",
    "\n",
    "from pyspark.ml.functions import array_to_vector, vector_to_array\n",
    "from pyspark.ml.stat import Summarizer\n",
    "from pyspark.sql import SparkSession\n",
    "from pyspark.sql.functions import *\n",
    "\n",
    "import pyarrow.parquet as pq\n",
    "import pandas as pd\n",
    "import numpy as np\n",
    "import re"
   ]
  },
  {
   "cell_type": "code",
   "execution_count": 2,
   "id": "ab29353c-8964-4fe7-94c5-136b3fe0ab21",
   "metadata": {},
   "outputs": [],
   "source": [
    "parrallelism = 8"
   ]
  },
  {
   "cell_type": "code",
   "execution_count": 3,
   "id": "bd19756d-4b1e-4612-aece-53196408fe71",
   "metadata": {},
   "outputs": [
    {
     "name": "stderr",
     "output_type": "stream",
     "text": [
      "Setting default log level to \"WARN\".\n",
      "To adjust logging level use sc.setLogLevel(newLevel). For SparkR, use setLogLevel(newLevel).\n"
     ]
    }
   ],
   "source": [
    "spark = SparkSession.builder \\\n",
    "                    .appName('Mean Categories') \\\n",
    "                    .config(\"spark.dynamicAllocation.enabled\", False) \\\n",
    "                    .config(\"spark.driver.memory\", \"4g\") \\\n",
    "                    .config(\"spark.cores.max\", parrallelism) \\\n",
    "                    .config(\"spark.executor.instances\", parrallelism) \\\n",
    "                    .config(\"spark.executor.cores\", 1) \\\n",
    "                    .config(\"spark.executor.memory\", \"6g\") \\\n",
    "                    .enableHiveSupport() \\\n",
    "                    .getOrCreate()\n",
    "\n",
    "sc = spark.sparkContext\n",
    "sc.setLogLevel(\"ERROR\")"
   ]
  },
  {
   "cell_type": "code",
   "execution_count": 4,
   "id": "8101f31e-bed9-4dad-8686-a985f5a33423",
   "metadata": {},
   "outputs": [],
   "source": [
    "category = spark.read.table(\"ruten.items\").select(\"category_name\", \"item_id\").distinct().cache()\n",
    "\n",
    "category_mpnet_mean = ( spark.read.table(\"ruten.item_mpnet_embeddings\")\n",
    "                      .join(category, on=\"item_id\", how=\"inner\" )\n",
    "                      .select(\"category_name\", array_to_vector(\"embedding\").alias(\"embedding\") )\n",
    "                      .groupBy(\"category_name\").agg(Summarizer.mean(col(\"embedding\")).alias(\"means\")) )\n",
    "\n",
    "category_roberta_mean = ( spark.read.table(\"ruten.item_roberta_embeddings\")\n",
    "                      .join(category, on=\"item_id\", how=\"inner\" )\n",
    "                      .select(\"category_name\", array_to_vector(\"embedding\").alias(\"embedding\") )\n",
    "                      .groupBy(\"category_name\").agg(Summarizer.mean(col(\"embedding\")).alias(\"means\")) )"
   ]
  },
  {
   "cell_type": "code",
   "execution_count": 7,
   "id": "c815cb6b-ff29-4dd4-ab38-2062eca5421d",
   "metadata": {},
   "outputs": [
    {
     "name": "stderr",
     "output_type": "stream",
     "text": [
      "                                                                                \r"
     ]
    }
   ],
   "source": [
    "category_mpnet_mean \\\n",
    "    .withColumn(\"means\", vector_to_array(col(\"means\")) ) \\\n",
    "    .write.mode(\"overwrite\") \\\n",
    "    .saveAsTable(\"ruten.category_mpnet_mean\")\n",
    "\n",
    "category_roberta_mean \\\n",
    "    .withColumn(\"means\", vector_to_array(col(\"means\")) ) \\\n",
    "    .write.mode(\"overwrite\") \\\n",
    "    .saveAsTable(\"ruten.category_roberta_mean\")"
   ]
  },
  {
   "cell_type": "code",
   "execution_count": 8,
   "id": "78e89cff-2692-4d2f-97d6-7efa4982c90e",
   "metadata": {},
   "outputs": [
    {
     "name": "stdout",
     "output_type": "stream",
     "text": [
      "+-------------+--------------------------------------------------------------------------------+\n",
      "|category_name|                                                                           means|\n",
      "+-------------+--------------------------------------------------------------------------------+\n",
      "|         電鑽|[-0.021314089978136785, -0.10547570231519209, -0.015131004432114804, 0.084993...|\n",
      "|        EPSON|[-0.01817725158769983, -0.03541076516216426, -0.013079896840095827, 0.0838633...|\n",
      "|     修車工具|[-0.016647793525897635, -0.05932178240893265, -0.013177707850340642, 0.108768...|\n",
      "|     昆蟲用品|[0.02782750157050651, -0.01444393068217083, -0.016812594513393456, 0.06576453...|\n",
      "|       風扇式|[-0.07861331445389741, -0.10615482247196611, -0.012547073829550259, 0.1035614...|\n",
      "|         油品|[-0.052018190908357714, -0.06605940253191672, -0.012483718835735796, 0.103602...|\n",
      "|     防毒軟體|[0.001110304127520315, 0.012769164728647949, -0.010819803078864085, 0.0101728...|\n",
      "|     其他用品|[0.026637781565172026, 0.0012971386956109321, -0.01558854228209706, 0.0220118...|\n",
      "|         褲子|[0.009141731873623856, -0.011479657457260017, -0.014455337178236742, 0.056882...|\n",
      "|         1:64|[-0.02849679990767147, -0.01617466063489656, -0.009897019600689746, 0.1447912...|\n",
      "+-------------+--------------------------------------------------------------------------------+\n",
      "only showing top 10 rows\n",
      "\n"
     ]
    }
   ],
   "source": [
    "spark.read.table(\"ruten.category_mpnet_mean\").show(10, truncate=80)"
   ]
  },
  {
   "cell_type": "code",
   "execution_count": 9,
   "id": "8e738573-cf3e-4e64-a827-078a8595dda1",
   "metadata": {},
   "outputs": [
    {
     "name": "stdout",
     "output_type": "stream",
     "text": [
      "+-------------+--------------------------------------------------------------------------------+\n",
      "|category_name|                                                                           means|\n",
      "+-------------+--------------------------------------------------------------------------------+\n",
      "|         電鑽|[0.03079621376129999, 0.011305086300605801, -0.010168589144345522, 0.00601073...|\n",
      "|        EPSON|[0.0122165122531219, 0.015443971295002369, 0.004824102293412356, 0.0030927372...|\n",
      "|     修車工具|[0.02087074320814526, 0.01602600673577771, -0.006578294068127924, 0.014337540...|\n",
      "|     昆蟲用品|[0.011721802285823984, 0.0423861917540528, 0.004003241466825103, -0.006544369...|\n",
      "|       風扇式|[0.01368033661415166, 0.006734896217600938, -0.004806658724363041, 0.01217407...|\n",
      "|         油品|[0.021233216216690682, 0.021986425723601613, 0.002847337595034737, -7.6024434...|\n",
      "|     防毒軟體|[0.014197460872464483, 0.03902770848786932, 0.010386681545504083, 1.414819508...|\n",
      "|     其他用品|[0.024933663381152802, 0.026418483350889723, -0.001658409037334921, 0.0060668...|\n",
      "|         褲子|[0.026438434691233283, 0.05243742387741267, -0.01647595323619863, 0.019500582...|\n",
      "|         1:64|[-4.4468007034746096E-4, 0.02429375012827006, 0.0017916647018934714, 0.010120...|\n",
      "+-------------+--------------------------------------------------------------------------------+\n",
      "only showing top 10 rows\n",
      "\n"
     ]
    }
   ],
   "source": [
    "spark.read.table(\"ruten.category_roberta_mean\").show(10, truncate=80)"
   ]
  }
 ],
 "metadata": {
  "kernelspec": {
   "display_name": "Python 3 (ipykernel)",
   "language": "python",
   "name": "python3"
  },
  "language_info": {
   "codemirror_mode": {
    "name": "ipython",
    "version": 3
   },
   "file_extension": ".py",
   "mimetype": "text/x-python",
   "name": "python",
   "nbconvert_exporter": "python",
   "pygments_lexer": "ipython3",
   "version": "3.11.3"
  }
 },
 "nbformat": 4,
 "nbformat_minor": 5
}
