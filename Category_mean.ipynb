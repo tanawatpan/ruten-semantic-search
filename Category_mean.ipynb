{
 "cells": [
  {
   "cell_type": "code",
   "execution_count": 1,
   "id": "fb6bde06-586c-4d0e-b793-fb499dc75203",
   "metadata": {},
   "outputs": [],
   "source": [
    "import warnings\n",
    "warnings.filterwarnings(\"ignore\")\n",
    "\n",
    "import findspark\n",
    "findspark.init()\n",
    "\n",
    "from pyspark.ml.functions import array_to_vector, vector_to_array\n",
    "from pyspark.ml.stat import Summarizer\n",
    "from pyspark.sql import SparkSession\n",
    "from pyspark.sql.functions import *\n",
    "\n",
    "import pyarrow.parquet as pq\n",
    "import pandas as pd\n",
    "import numpy as np\n",
    "import re"
   ]
  },
  {
   "cell_type": "code",
   "execution_count": 2,
   "id": "ab29353c-8964-4fe7-94c5-136b3fe0ab21",
   "metadata": {},
   "outputs": [],
   "source": [
    "parrallelism = 8"
   ]
  },
  {
   "cell_type": "code",
   "execution_count": 3,
   "id": "bd19756d-4b1e-4612-aece-53196408fe71",
   "metadata": {},
   "outputs": [
    {
     "name": "stderr",
     "output_type": "stream",
     "text": [
      "Setting default log level to \"WARN\".\n",
      "To adjust logging level use sc.setLogLevel(newLevel). For SparkR, use setLogLevel(newLevel).\n",
      "23/06/07 11:18:48 WARN Utils: Service 'SparkUI' could not bind on port 4040. Attempting port 4041.\n"
     ]
    }
   ],
   "source": [
    "spark = SparkSession.builder \\\n",
    "                    .appName('Mean Categories') \\\n",
    "                    .config(\"spark.dynamicAllocation.enabled\", False) \\\n",
    "                    .config(\"spark.driver.memory\", \"4g\") \\\n",
    "                    .config(\"spark.cores.max\", parrallelism) \\\n",
    "                    .config(\"spark.executor.instances\", parrallelism) \\\n",
    "                    .config(\"spark.executor.cores\", 1) \\\n",
    "                    .config(\"spark.executor.memory\", \"6g\") \\\n",
    "                    .enableHiveSupport() \\\n",
    "                    .getOrCreate()\n",
    "\n",
    "sc = spark.sparkContext\n",
    "sc.setLogLevel(\"ERROR\")"
   ]
  },
  {
   "cell_type": "code",
   "execution_count": 5,
   "id": "8101f31e-bed9-4dad-8686-a985f5a33423",
   "metadata": {},
   "outputs": [],
   "source": [
    "category = spark.read.table(\"ruten.items\").select(\"category_name\", \"item_id\").distinct().alias(\"i\").cache()\n",
    "\n",
    "category_bert_mean = ( spark.read.table(\"ruten.item_bert_embeddings\")\n",
    "                      .join(category, on=\"item_id\", how=\"inner\" )\n",
    "                      .select(\"i.category_name\", array_to_vector(\"embedding\").alias(\"embedding\") )\n",
    "                      .groupBy(\"i.category_name\").agg(Summarizer.mean(col(\"embedding\")).alias(\"means\")) )\n",
    "\n",
    "category_mpnet_mean = ( spark.read.table(\"ruten.item_mpnet_embeddings\")\n",
    "                      .join(category, on=\"item_id\", how=\"inner\" )\n",
    "                      .select(\"i.category_name\", array_to_vector(\"embedding\").alias(\"embedding\") )\n",
    "                      .groupBy(\"i.category_name\").agg(Summarizer.mean(col(\"embedding\")).alias(\"means\")) )\n",
    "\n",
    "category_roberta_mean = ( spark.read.table(\"ruten.item_roberta_embeddings\")\n",
    "                      .join(category, on=\"item_id\", how=\"inner\" )\n",
    "                      .select(\"i.category_name\", array_to_vector(\"embedding\").alias(\"embedding\") )\n",
    "                      .groupBy(\"i.category_name\").agg(Summarizer.mean(col(\"embedding\")).alias(\"means\")) )"
   ]
  },
  {
   "cell_type": "code",
   "execution_count": 6,
   "id": "c815cb6b-ff29-4dd4-ab38-2062eca5421d",
   "metadata": {},
   "outputs": [
    {
     "name": "stderr",
     "output_type": "stream",
     "text": [
      "                                                                                \r"
     ]
    }
   ],
   "source": [
    "category_bert_mean \\\n",
    "    .withColumn(\"means\", vector_to_array(col(\"means\")) ) \\\n",
    "    .write.mode(\"overwrite\") \\\n",
    "    .saveAsTable(\"ruten.category_bert_mean\")\n",
    "\n",
    "category_mpnet_mean \\\n",
    "    .withColumn(\"means\", vector_to_array(col(\"means\")) ) \\\n",
    "    .write.mode(\"overwrite\") \\\n",
    "    .saveAsTable(\"ruten.category_mpnet_mean\")\n",
    "\n",
    "category_roberta_mean \\\n",
    "    .withColumn(\"means\", vector_to_array(col(\"means\")) ) \\\n",
    "    .write.mode(\"overwrite\") \\\n",
    "    .saveAsTable(\"ruten.category_roberta_mean\")"
   ]
  },
  {
   "cell_type": "code",
   "execution_count": 7,
   "id": "1864d73a",
   "metadata": {},
   "outputs": [
    {
     "name": "stdout",
     "output_type": "stream",
     "text": [
      "+----------------+--------------------------------------------------------------------------------+\n",
      "|   category_name|                                                                           means|\n",
      "+----------------+--------------------------------------------------------------------------------+\n",
      "|其他登山露營裝備|[-0.01130470043232018, -0.010176716403420494, 0.011288885955397975, -0.002144...|\n",
      "|        穿戴系列|[-0.01203853264599241, -0.011944506361470741, 0.013148004361007931, -0.002781...|\n",
      "|           1:144|[-0.016146805694259088, -0.014371978527081863, 0.013816663178287135, -0.00254...|\n",
      "|        套裝盒組|[-0.013986995813175042, -0.0053478428896143815, 0.01463188558291397, -0.00575...|\n",
      "|      素面POLO衫|[-0.011080838239891725, -0.007788765488792685, 0.011456314304768176, -0.00214...|\n",
      "|  電子零件、材料|[-0.01231464171752948, -0.00702363626656497, 0.012938657890587757, -0.0035582...|\n",
      "|    其他汽車零件|[-0.013964041612507375, -0.007590736771159745, 0.013124226760831017, -0.00300...|\n",
      "|        肉類食品|[-0.009634528945437038, -0.010787360668783373, 0.012470246450829366, -0.00438...|\n",
      "|其他居家安全用品|[-0.011892611861304062, -0.012414132876636133, 0.012289099452983655, -0.00131...|\n",
      "|    其它電動工具|[-0.01334999700941612, -0.011243722906909243, 0.012979571804642964, -9.668718...|\n",
      "+----------------+--------------------------------------------------------------------------------+\n",
      "only showing top 10 rows\n",
      "\n"
     ]
    }
   ],
   "source": [
    "spark.read.table(\"ruten.category_bert_mean\").show(10, truncate=80)"
   ]
  },
  {
   "cell_type": "code",
   "execution_count": 8,
   "id": "78e89cff-2692-4d2f-97d6-7efa4982c90e",
   "metadata": {},
   "outputs": [
    {
     "name": "stdout",
     "output_type": "stream",
     "text": [
      "+--------------+--------------------------------------------------------------------------------+\n",
      "| category_name|                                                                           means|\n",
      "+--------------+--------------------------------------------------------------------------------+\n",
      "|  其他事務用品|[0.015318099806923842, -0.06862425321653287, -0.01495216189873185, 0.06262199...|\n",
      "|        南北貨|[0.02332762520182198, -0.006393144300872907, -0.013879214193070342, 0.0454430...|\n",
      "|      多段變頻|[0.07199920323972056, -0.06529106213045878, -0.015270731338711244, 0.02465232...|\n",
      "|布料、布飾用品|[0.022684920082191057, -0.08251138266299793, -0.01717377680467156, 0.07631546...|\n",
      "|        BL小說|[0.06470077777137676, 0.09910147837150007, -0.01709956380849084, 0.0616534070...|\n",
      "|      其他漫畫|[0.06163656314060818, 0.10261786172115997, -0.015232874225089697, 0.065954661...|\n",
      "|國中、國小用書|[0.022476823187816082, 0.08254795025494631, -0.016955095660812845, 0.04092600...|\n",
      "|引擎、車組零件|[-0.04060564998260812, -0.09625831360981695, -0.011820811662096857, 0.1277043...|\n",
      "|        遊戲王|[0.04699756976738246, 0.0473909448114028, -0.015107346555596982, 0.0727436882...|\n",
      "|        咖啡豆|[-0.0030345031402927267, 0.006345906802420976, -0.013217027416592282, 0.07764...|\n",
      "+--------------+--------------------------------------------------------------------------------+\n",
      "only showing top 10 rows\n",
      "\n"
     ]
    }
   ],
   "source": [
    "spark.read.table(\"ruten.category_mpnet_mean\").show(10, truncate=80)"
   ]
  },
  {
   "cell_type": "code",
   "execution_count": 9,
   "id": "8e738573-cf3e-4e64-a827-078a8595dda1",
   "metadata": {},
   "outputs": [
    {
     "name": "stdout",
     "output_type": "stream",
     "text": [
      "+--------------+--------------------------------------------------------------------------------+\n",
      "| category_name|                                                                           means|\n",
      "+--------------+--------------------------------------------------------------------------------+\n",
      "|  其他事務用品|[0.020256369170148104, 0.019319534728361926, -0.002031191696291541, 0.0089650...|\n",
      "|        南北貨|[0.035391496221875846, 0.03844949997405114, -0.010247700171351182, 0.01589613...|\n",
      "|      多段變頻|[0.025965876576532446, 0.030605224953609726, -0.004405737421984625, 0.0134910...|\n",
      "|布料、布飾用品|[0.034184457729992505, 0.030938423830260815, 0.0010962391452267182, 0.0091732...|\n",
      "|        BL小說|[0.019612097124749112, 0.031712931973347715, 0.014908200593612614, 0.01273087...|\n",
      "|      其他漫畫|[0.01580074914411529, 0.033089502161621605, 0.022509570164805454, 0.014541025...|\n",
      "|國中、國小用書|[8.149879320586605E-4, 0.023566311881067337, -0.011255109917981941, 0.0152919...|\n",
      "|引擎、車組零件|[0.013603736883026598, 0.014209323022127652, -3.095186763385479E-4, 0.0122235...|\n",
      "|        遊戲王|[0.01250011324490362, 0.02751819168966767, 0.015732522205491775, 0.0127236731...|\n",
      "|        咖啡豆|[0.02182416263462356, 0.035924364015969115, 0.0026331911107808272, 0.01360155...|\n",
      "+--------------+--------------------------------------------------------------------------------+\n",
      "only showing top 10 rows\n",
      "\n"
     ]
    }
   ],
   "source": [
    "spark.read.table(\"ruten.category_roberta_mean\").show(10, truncate=80)"
   ]
  }
 ],
 "metadata": {
  "kernelspec": {
   "display_name": "Python 3 (ipykernel)",
   "language": "python",
   "name": "python3"
  }
 },
 "nbformat": 4,
 "nbformat_minor": 5
}
